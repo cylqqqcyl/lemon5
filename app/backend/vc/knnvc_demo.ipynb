{
  "cells": [
    {
      "cell_type": "code",
      "execution_count": 3,
      "metadata": {
        "colab": {
          "base_uri": "https://localhost:8080/"
        },
        "id": "L8If-TOe4BZO",
        "outputId": "0ed08fba-ad75-48a9-be34-b4976f286bb7"
      },
      "outputs": [
        {
          "name": "stdout",
          "output_type": "stream",
          "text": [
            "Removing weight norm...\n",
            "[HiFiGAN] Generator loaded with 16,523,393 parameters.\n",
            "WavLM-Large loaded with 315,453,120 parameters.\n"
          ]
        }
      ],
      "source": [
        "import torch, torchaudio\n",
        "from hubconf import knn_vc\n",
        "knn_vc = knn_vc(pretrained=True, progress=True, prematched=True, device='cuda')"
      ]
    },
    {
      "cell_type": "code",
      "execution_count": 2,
      "metadata": {
        "id": "OSTHzOc14In5"
      },
      "outputs": [
        {
          "ename": "TypeError",
          "evalue": "load() got an unexpected keyword argument 'normalize'",
          "output_type": "error",
          "traceback": [
            "\u001b[1;31m---------------------------------------------------------------------------\u001b[0m",
            "\u001b[1;31mTypeError\u001b[0m                                 Traceback (most recent call last)",
            "\u001b[1;32md:\\Coding\\Projects\\Lemon5\\lemon5\\app\\backend\\vc\\knnvc_demo.ipynb 单元格 2\u001b[0m line \u001b[0;36m6\n\u001b[0;32m      <a href='vscode-notebook-cell:/d%3A/Coding/Projects/Lemon5/lemon5/app/backend/vc/knnvc_demo.ipynb#W1sZmlsZQ%3D%3D?line=2'>3</a>\u001b[0m \u001b[39m# list of paths to all reference waveforms (each must be 16kHz, single-channel) from the target speaker\u001b[39;00m\n\u001b[0;32m      <a href='vscode-notebook-cell:/d%3A/Coding/Projects/Lemon5/lemon5/app/backend/vc/knnvc_demo.ipynb#W1sZmlsZQ%3D%3D?line=3'>4</a>\u001b[0m ref_wav_paths \u001b[39m=\u001b[39m [\u001b[39m'\u001b[39m\u001b[39m/content/ref1.wav\u001b[39m\u001b[39m'\u001b[39m, ]\n\u001b[1;32m----> <a href='vscode-notebook-cell:/d%3A/Coding/Projects/Lemon5/lemon5/app/backend/vc/knnvc_demo.ipynb#W1sZmlsZQ%3D%3D?line=5'>6</a>\u001b[0m query_seq \u001b[39m=\u001b[39m knn_vc\u001b[39m.\u001b[39;49mget_features(src_wav_path)\n\u001b[0;32m      <a href='vscode-notebook-cell:/d%3A/Coding/Projects/Lemon5/lemon5/app/backend/vc/knnvc_demo.ipynb#W1sZmlsZQ%3D%3D?line=6'>7</a>\u001b[0m matching_set \u001b[39m=\u001b[39m knn_vc\u001b[39m.\u001b[39mget_matching_set(ref_wav_paths)\n",
            "File \u001b[1;32md:\\Software\\Anaconda\\envs\\knn-vc\\Lib\\site-packages\\torch\\utils\\_contextlib.py:115\u001b[0m, in \u001b[0;36mcontext_decorator.<locals>.decorate_context\u001b[1;34m(*args, **kwargs)\u001b[0m\n\u001b[0;32m    112\u001b[0m \u001b[39m@functools\u001b[39m\u001b[39m.\u001b[39mwraps(func)\n\u001b[0;32m    113\u001b[0m \u001b[39mdef\u001b[39;00m \u001b[39mdecorate_context\u001b[39m(\u001b[39m*\u001b[39margs, \u001b[39m*\u001b[39m\u001b[39m*\u001b[39mkwargs):\n\u001b[0;32m    114\u001b[0m     \u001b[39mwith\u001b[39;00m ctx_factory():\n\u001b[1;32m--> 115\u001b[0m         \u001b[39mreturn\u001b[39;00m func(\u001b[39m*\u001b[39;49margs, \u001b[39m*\u001b[39;49m\u001b[39m*\u001b[39;49mkwargs)\n",
            "File \u001b[1;32m~/.cache\\torch\\hub\\bshall_knn-vc_master\\matcher.py:88\u001b[0m, in \u001b[0;36mKNeighborsVC.get_features\u001b[1;34m(self, path, weights, vad_trigger_level)\u001b[0m\n\u001b[0;32m     86\u001b[0m \u001b[39mif\u001b[39;00m weights \u001b[39m==\u001b[39m \u001b[39mNone\u001b[39;00m: weights \u001b[39m=\u001b[39m \u001b[39mself\u001b[39m\u001b[39m.\u001b[39mweighting\n\u001b[0;32m     87\u001b[0m \u001b[39mif\u001b[39;00m \u001b[39mtype\u001b[39m(path) \u001b[39min\u001b[39;00m [\u001b[39mstr\u001b[39m, Path]:\n\u001b[1;32m---> 88\u001b[0m     x, sr \u001b[39m=\u001b[39m torchaudio\u001b[39m.\u001b[39;49mload(path, normalize\u001b[39m=\u001b[39;49m\u001b[39mTrue\u001b[39;49;00m)\n\u001b[0;32m     89\u001b[0m \u001b[39melse\u001b[39;00m:\n\u001b[0;32m     90\u001b[0m     x: Tensor \u001b[39m=\u001b[39m path\n",
            "\u001b[1;31mTypeError\u001b[0m: load() got an unexpected keyword argument 'normalize'"
          ]
        }
      ],
      "source": [
        "# path to 16kHz, single-channel, source waveform\n",
        "src_wav_path = 'D:\\Coding\\Projects\\Lemon5\\lemon5\\app\\backend\\vc\\audio\\1 (1).wav'\n",
        "# list of paths to all reference waveforms (each must be 16kHz, single-channel) from the target speaker\n",
        "ref_wav_paths = ['D:\\Coding\\Projects\\Lemon5\\lemon5\\app\\backend\\vc\\audio\\ref_LJ.wav', ]\n",
        "\n",
        "query_seq = knn_vc.get_features(src_wav_path)\n",
        "matching_set = knn_vc.get_matching_set(ref_wav_paths)"
      ]
    },
    {
      "cell_type": "code",
      "execution_count": 3,
      "metadata": {
        "id": "UREha7VM4idc"
      },
      "outputs": [],
      "source": [
        "out_wav = knn_vc.match(query_seq, matching_set, topk=4)"
      ]
    },
    {
      "cell_type": "code",
      "execution_count": 4,
      "metadata": {
        "id": "1YhPSQ4f4nF0"
      },
      "outputs": [],
      "source": [
        "import IPython.display as ipd"
      ]
    },
    {
      "cell_type": "code",
      "execution_count": null,
      "metadata": {
        "id": "7-xbWSqf7iAK"
      },
      "outputs": [],
      "source": [
        "ipd.Audio(out_wav.numpy(), rate=16000)"
      ]
    },
    {
      "cell_type": "code",
      "execution_count": null,
      "metadata": {
        "id": "QDA9xO_mB1eD"
      },
      "outputs": [],
      "source": [
        "torchaudio.save('knnvc1_out.wav', out_wav[None], 16000)"
      ]
    },
    {
      "cell_type": "markdown",
      "metadata": {
        "id": "wyWtICjSECkF"
      },
      "source": [
        "<audio name=\"abstract-reader\" controls preload src=\"https://github.com/bshall/knn-vc/releases/download/v0.1/david-attenborough.wav\"></audio>"
      ]
    }
  ],
  "metadata": {
    "accelerator": "GPU",
    "colab": {
      "gpuType": "T4",
      "provenance": []
    },
    "kernelspec": {
      "display_name": "Python 3",
      "name": "python3"
    },
    "language_info": {
      "codemirror_mode": {
        "name": "ipython",
        "version": 3
      },
      "file_extension": ".py",
      "mimetype": "text/x-python",
      "name": "python",
      "nbconvert_exporter": "python",
      "pygments_lexer": "ipython3",
      "version": "3.11.5"
    }
  },
  "nbformat": 4,
  "nbformat_minor": 0
}
